{
  "nbformat": 4,
  "nbformat_minor": 0,
  "metadata": {
    "colab": {
      "provenance": []
    },
    "kernelspec": {
      "name": "python3",
      "display_name": "Python 3"
    },
    "language_info": {
      "name": "python"
    }
  },
  "cells": [
    {
      "cell_type": "markdown",
      "source": [
        "Write a program that takes three integers as input: low, high, and x. The program\n",
        "then outputs the number of multiples of x between low and high inclusive.\n",
        "Ex: If the input is:\n",
        "1\n",
        "10\n",
        "2\n",
        "The output is:\n",
        "5\n",
        "Hint: Use the % operator to determine if a number is a multiple of x. Use a for\n",
        "loop to test each number\n",
        "between low and high.\n"
      ],
      "metadata": {
        "id": "Xpv2pkRrVWva"
      }
    },
    {
      "cell_type": "code",
      "execution_count": null,
      "metadata": {
        "colab": {
          "base_uri": "https://localhost:8080/"
        },
        "id": "NzL7toJyMFzJ",
        "outputId": "975077ec-aa61-4939-8b0c-e261d0f4ca9f"
      },
      "outputs": [
        {
          "output_type": "stream",
          "name": "stdout",
          "text": [
            "Enter the low value: 2\n",
            "Enter the high value: 4\n",
            "Enter the value of x: 3\n",
            "The number of multiples of 3 between 2 and 4 is: 1\n"
          ]
        }
      ],
      "source": [
        "#Question 1 \n",
        "\n",
        "\n",
        "def count(low, high, x):\n",
        "    count = 0\n",
        "    for num in range(low, high + 1):\n",
        "        if num % x == 0:\n",
        "            count += 1\n",
        "    return count\n",
        "\n",
        "\n",
        "low = int(input(\"Enter the low value: \"))\n",
        "high = int(input(\"Enter the high value: \"))\n",
        "x = int(input(\"Enter the value of x: \"))\n",
        "\n",
        "\n",
        "result = count(low, high, x)\n",
        "print(\"The number of multiples of\", x, \"between\", low, \"and\", high, \"is:\", result)\n"
      ]
    },
    {
      "cell_type": "markdown",
      "source": [
        "Write a program that repeatedly reads in integers until a negative integer is read.\n",
        "The program also keeps track of the largest integer that has been read so far and\n",
        "outputs the largest integer at the end.\n",
        "Ex: If the input is:\n",
        "2\n",
        "10\n",
        "15\n",
        "40\n",
        "-3\n",
        "The output is:\n",
        "40\n",
        "Assume a user will enter at least one non-negative integer.\n"
      ],
      "metadata": {
        "id": "KmZCzVcHVbvu"
      }
    },
    {
      "cell_type": "code",
      "source": [
        "#Question 2\n",
        "largest = None\n",
        "\n",
        "while True:\n",
        "    num = int(input(\"Enter an integer: \"))\n",
        "    \n",
        "    if num < 0:\n",
        "        break\n",
        "\n",
        "    if largest is None or num > largest:\n",
        "        largest = num\n",
        "\n",
        "print(\"The largest integer entered is:\", largest)\n",
        "\n",
        "\n"
      ],
      "metadata": {
        "colab": {
          "base_uri": "https://localhost:8080/"
        },
        "id": "Tz5kffA8Q46-",
        "outputId": "c64ab753-9f83-494a-ab08-ee135738f43d"
      },
      "execution_count": null,
      "outputs": [
        {
          "output_type": "stream",
          "name": "stdout",
          "text": [
            "Enter an integer: 9\n",
            "Enter an integer: 8\n",
            "Enter an integer: 7\n",
            "Enter an integer: -9\n",
            "The largest integer entered is: 9\n"
          ]
        }
      ]
    }
  ]
}